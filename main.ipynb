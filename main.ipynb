{
 "cells": [
  {
   "cell_type": "code",
   "execution_count": 1,
   "id": "b056fab7-5f79-4127-8360-da09d6f30c49",
   "metadata": {},
   "outputs": [
    {
     "name": "stdout",
     "output_type": "stream",
     "text": [
      "pygame 2.3.0 (SDL 2.24.2, Python 3.10.9)\n",
      "Hello from the pygame community. https://www.pygame.org/contribute.html\n"
     ]
    }
   ],
   "source": [
    "import pygame as pg \n",
    "import random \n",
    "import sys"
   ]
  },
  {
   "cell_type": "code",
   "execution_count": 2,
   "id": "3609f918-e6a1-468c-aaec-e8abcf01f58a",
   "metadata": {},
   "outputs": [],
   "source": [
    "WINDOW_WIDTH = 400\n",
    "WINDOW_HEIGHT = 600\n",
    "GRAVITY = 0.6\n",
    "BIRD_MOVEMENT = 0\n",
    "GAME_LOOP = True"
   ]
  },
  {
   "cell_type": "code",
   "execution_count": 3,
   "id": "51678b34-b6e2-4dbf-97fd-3e37b3ed71b2",
   "metadata": {},
   "outputs": [],
   "source": [
    "pg.init()\n",
    "SCREEN = pg.display.set_mode((WINDOW_WIDTH, WINDOW_HEIGHT))"
   ]
  },
  {
   "cell_type": "code",
   "execution_count": 4,
   "id": "368c22c7-75f2-4c88-8a59-aa6474096eac",
   "metadata": {},
   "outputs": [],
   "source": [
    "BACKGROUND = pg.image.load(\"./background.png\")\n",
    "BIRD = pg.image.load(\"./bird.png\")\n",
    "PIPE = pg.image.load(\"./pipe.png\")\n",
    "PIPE_TOP = pg.image.load(\"./pipe1.png\")\n",
    "MESSAGE = pg.image.load(\"./message.png\")\n",
    "\n",
    "MESSAGE_RECT = MESSAGE.get_rect(center=(200, 300))\n",
    "BIRD_RECT = BIRD.get_rect(center=(100, 300))\n",
    "\n",
    "PIPE_RECTS = [\n",
    "    PIPE.get_rect(midtop=(400, 400)),\n",
    "    PIPE.get_rect(midtop=(500, 500)),\n",
    "    PIPE.get_rect(midtop=(600, 450)),\n",
    "    PIPE.get_rect(midtop=(700, 350)),\n",
    "    PIPE_TOP.get_rect(midtop=(400, -100)),\n",
    "    PIPE_TOP.get_rect(midtop=(500, -200)),\n",
    "    PIPE_TOP.get_rect(midtop=(600, -150)),\n",
    "    PIPE_TOP.get_rect(midtop=(700, -75)),\n",
    "]\n"
   ]
  },
  {
   "cell_type": "code",
   "execution_count": 5,
   "id": "90536e50-49e7-488a-aca9-99f4124d4a51",
   "metadata": {},
   "outputs": [],
   "source": [
    "def move_pipes():\n",
    "    for pipe in PIPE_RECTS[:4]:\n",
    "        SCREEN.blit(PIPE, pipe)\n",
    "        pipe.centerx -= 4\n",
    "        if pipe.centerx < -52:\n",
    "            pipe.centerx = 410\n",
    "            pipe.centery = random.randint(500, 600)\n",
    "    for pipe in PIPE_RECTS[4:]:\n",
    "        SCREEN.blit(PIPE_TOP, pipe)\n",
    "        pipe.centerx -= 4\n",
    "        if pipe.centerx < -52:\n",
    "            pipe.centerx = 410\n",
    "            pipe.centery = random.randint(0, 100)\n"
   ]
  },
  {
   "cell_type": "code",
   "execution_count": 6,
   "id": "7f97d501-d1d0-4dc8-b596-ab15e520d697",
   "metadata": {},
   "outputs": [],
   "source": [
    "def reset_pipes():\n",
    "    for pipe in PIPE_RECTS[:4]:\n",
    "        pipe.midtop = (pipe.centerx + 400, random.randint(300, 500))\n",
    "    for pipe in PIPE_RECTS[4:]:\n",
    "        pipe.midbottom = (pipe.centerx + 400, random.randint(100, 300))"
   ]
  },
  {
   "cell_type": "code",
   "execution_count": 7,
   "id": "1920aae7-2797-47db-8d6c-f4fbea46870f",
   "metadata": {},
   "outputs": [],
   "source": [
    "def check_collision():\n",
    "    for pipe in PIPE_RECTS:\n",
    "        if BIRD_RECT.colliderect(pipe):\n",
    "            return False\n",
    "    if BIRD_RECT.top <= -20 or BIRD_RECT.bottom >= WINDOW_HEIGHT:\n",
    "        return False\n",
    "    return True"
   ]
  },
  {
   "cell_type": "code",
   "execution_count": 8,
   "id": "8c77ab3b-68cb-4932-ad16-49ae8c14beb5",
   "metadata": {},
   "outputs": [
    {
     "ename": "SystemExit",
     "evalue": "",
     "output_type": "error",
     "traceback": [
      "An exception has occurred, use %tb to see the full traceback.\n",
      "\u001b[1;31mSystemExit\u001b[0m\n"
     ]
    },
    {
     "name": "stderr",
     "output_type": "stream",
     "text": [
      "D:\\Anaconda\\envs\\myenv\\lib\\site-packages\\IPython\\core\\interactiveshell.py:3468: UserWarning: To exit: use 'exit', 'quit', or Ctrl-D.\n",
      "  warn(\"To exit: use 'exit', 'quit', or Ctrl-D.\", stacklevel=1)\n"
     ]
    }
   ],
   "source": [
    "if __name__ == \"__main__\":\t\t\n",
    "    while True:\n",
    "        for event in pg.event.get():\n",
    "            if event.type == pg.QUIT:\n",
    "                pg.quit()\n",
    "                sys.exit()\n",
    "            if event.type == pg.KEYDOWN:\n",
    "                if event.key == pg.K_SPACE and GAME_LOOP:\n",
    "                    BIRD_MOVEMENT = 0\n",
    "                    BIRD_MOVEMENT -= 10\n",
    "                if event.key == pg.K_SPACE and not GAME_LOOP:\n",
    "                    BIRD_MOVEMENT = 0\n",
    "                    BIRD_RECT.center = (100, 300)\n",
    "                    reset_pipes()\n",
    "                    GAME_LOOP = True\n",
    "\n",
    "        SCREEN.blit(BACKGROUND, (0, 0))\n",
    "\n",
    "        if GAME_LOOP:\n",
    "            SCREEN.blit(BIRD, BIRD_RECT)\n",
    "\n",
    "            move_pipes()\n",
    "\n",
    "            BIRD_MOVEMENT += GRAVITY\n",
    "            BIRD_RECT.centery += BIRD_MOVEMENT\n",
    "\n",
    "            GAME_LOOP = check_collision()\n",
    "        else:\n",
    "            SCREEN.blit(MESSAGE, MESSAGE_RECT)\n",
    "\n",
    "        pg.display.update()"
   ]
  },
  {
   "cell_type": "code",
   "execution_count": null,
   "id": "0eaa482a-7772-41c9-bcda-214b7686a99a",
   "metadata": {},
   "outputs": [],
   "source": []
  }
 ],
 "metadata": {
  "kernelspec": {
   "display_name": "Python 3 (ipykernel)",
   "language": "python",
   "name": "python3"
  },
  "language_info": {
   "codemirror_mode": {
    "name": "ipython",
    "version": 3
   },
   "file_extension": ".py",
   "mimetype": "text/x-python",
   "name": "python",
   "nbconvert_exporter": "python",
   "pygments_lexer": "ipython3",
   "version": "3.10.9"
  }
 },
 "nbformat": 4,
 "nbformat_minor": 5
}
